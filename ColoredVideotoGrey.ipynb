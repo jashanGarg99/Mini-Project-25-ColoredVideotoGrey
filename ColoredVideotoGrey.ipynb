{
  "nbformat": 4,
  "nbformat_minor": 0,
  "metadata": {
    "colab": {
      "provenance": [],
      "include_colab_link": true
    },
    "kernelspec": {
      "name": "python3",
      "display_name": "Python 3"
    },
    "language_info": {
      "name": "python"
    }
  },
  "cells": [
    {
      "cell_type": "markdown",
      "metadata": {
        "id": "view-in-github",
        "colab_type": "text"
      },
      "source": [
        "<a href=\"https://colab.research.google.com/github/jashanGarg99/Mini-Project-25-ColoredVideotoGrey/blob/main/ColoredVideotoGrey.ipynb\" target=\"_parent\"><img src=\"https://colab.research.google.com/assets/colab-badge.svg\" alt=\"Open In Colab\"/></a>"
      ]
    },
    {
      "cell_type": "code",
      "execution_count": null,
      "metadata": {
        "colab": {
          "base_uri": "https://localhost:8080/"
        },
        "id": "hcALBVlSRzRG",
        "outputId": "4a68d1ac-5939-424e-dffa-eb3a774d65b0"
      },
      "outputs": [
        {
          "output_type": "stream",
          "name": "stdout",
          "text": [
            "Video converted to greyscale.\n"
          ]
        }
      ],
      "source": [
        "import cv2\n",
        "\n",
        "input_video = 'input_video.mp4'\n",
        "output_video = 'grey_video.avi'\n",
        "\n",
        "cap = cv2.VideoCapture(input_video)\n",
        "fourcc = cv2.VideoWriter_fourcc(*'XVID')\n",
        "fps = int(cap.get(cv2.CAP_PROP_FPS))\n",
        "width = int(cap.get(cv2.CAP_PROP_FRAME_WIDTH))\n",
        "height = int(cap.get(cv2.CAP_PROP_FRAME_HEIGHT))\n",
        "\n",
        "out = cv2.VideoWriter(output_video, fourcc, fps, (width, height), isColor=False)\n",
        "\n",
        "while cap.isOpened():\n",
        "    ret, frame = cap.read()\n",
        "    if not ret:\n",
        "        break\n",
        "    grey_frame = cv2.cvtColor(frame, cv2.COLOR_BGR2GRAY)\n",
        "    out.write(grey_frame)\n",
        "\n",
        "cap.release()\n",
        "out.release()\n",
        "print(\"Video converted to greyscale.\")\n"
      ]
    }
  ]
}